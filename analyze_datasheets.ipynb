{
  "cells": [
    {
      "cell_type": "code",
      "execution_count": null,
      "metadata": {
        "gather": {
          "logged": 1718311228117
        },
        "jupyter": {
          "outputs_hidden": false,
          "source_hidden": false
        },
        "nteract": {
          "transient": {
            "deleting": false
          }
        }
      },
      "outputs": [],
      "source": [
        "import json\n",
        "from azure.core.credentials import AzureKeyCredential  \n",
        "from azure.search.documents import SearchClient  \n",
        "from azure.search.documents.indexes import SearchIndexClient \n",
        "from openai import AzureOpenAI\n",
        "import pandas as pd  \n",
        "import numpy as np"
      ]
    },
    {
      "cell_type": "code",
      "execution_count": 2,
      "metadata": {
        "gather": {
          "logged": 1718311233088
        },
        "jupyter": {
          "outputs_hidden": false,
          "source_hidden": false
        },
        "nteract": {
          "transient": {
            "deleting": false
          }
        }
      },
      "outputs": [
        {
          "name": "stdout",
          "output_type": "stream",
          "text": [
            "Search Service Name: randysbasiccogsearch\n",
            "Search Service URL: https://randysbasiccogsearch.search.windows.net/\n",
            "Index Name: onsemi-images-cwmd\n",
            "Azure OpenAI Embeddings Base URL: https://randysopenaieast.openai.azure.com/\n",
            "Azure OpenAI Embeddings Model: text-embedding-ada-002\n",
            "Azure OpenAI GPT Base URL: https://randysopenaieast.openai.azure.com/\n",
            "Azure OpenAI GPT Model: gpt-4o\n",
            "Tenant ID: 16b3c013-d300-468d-ac64-7eda0820b6d3\n",
            "Client ID: dea42ec1-02bd-48e7-a79e-4fc39071b824\n"
          ]
        }
      ],
      "source": [
        "openai_temperature = 0.1\n",
        "\n",
        "#Load the configuration details for the AI Search Service and Azure OpenAI Instance\n",
        "#Credentials should be secured using a more secure method such as Azure KeyVault\n",
        "config = json.load(open(\"config.json\"))\n",
        "\n",
        "# Azure AI Search Config\n",
        "search_service_name = config[\"search_service_name\"]\n",
        "search_service_url = \"https://{}.search.windows.net/\".format(search_service_name)\n",
        "search_admin_key = config[\"search_admin_key\"]\n",
        "index_name = config[\"search_index_name\"]\n",
        "search_api_version = config[\"search_api_version\"]\n",
        "\n",
        "#Azure OpenAI\n",
        "openai_embedding_api_base = config[\"openai_embedding_api_base\"]\n",
        "openai_embedding_api_key = config[\"openai_embedding_api_key\"]\n",
        "openai_embedding_api_version = config[\"openai_embedding_api_version\"]\n",
        "openai_embeddings_model = config[\"openai_embedding_model\"]\n",
        "\n",
        "openai_gpt_api_base = config[\"openai_gpt_api_base\"]\n",
        "openai_gpt_api_key = config[\"openai_gpt_api_key\"]\n",
        "openai_gpt_api_version = config[\"openai_gpt_api_version\"]\n",
        "openai_gpt_model = config[\"openai_gpt_model\"]\n",
        "\n",
        "client_id = config[\"client_id\"]\n",
        "client_secret = config[\"client_secret\"]\n",
        "tenant_id = config[\"tenant_id\"]\n",
        "\n",
        "index_client = SearchIndexClient(\n",
        "        endpoint=search_service_url, credential=AzureKeyCredential(search_admin_key))\n",
        "search_client = SearchClient(endpoint=search_service_url, index_name=index_name, credential=AzureKeyCredential(search_admin_key))\n",
        "\n",
        "# gets the API Key from environment variable AZURE_OPENAI_API_KEY\n",
        "embeddings_client = AzureOpenAI(\n",
        "    api_version=openai_embedding_api_version,\n",
        "    azure_endpoint=openai_embedding_api_base,\n",
        "    api_key=openai_embedding_api_key\n",
        ")\n",
        "\n",
        "gpt_client = AzureOpenAI(\n",
        "    api_version=openai_gpt_api_version,\n",
        "    azure_endpoint=openai_gpt_api_base,\n",
        "    api_key=openai_gpt_api_key\n",
        ")\n",
        "\n",
        "print ('Search Service Name:', search_service_name)\n",
        "print ('Search Service URL:', search_service_url)   \n",
        "print ('Index Name:', index_name)\n",
        "print ('Azure OpenAI Embeddings Base URL:', openai_embedding_api_base)\n",
        "print ('Azure OpenAI Embeddings Model:', openai_embeddings_model)\n",
        "print ('Azure OpenAI GPT Base URL:', openai_gpt_api_base)\n",
        "print ('Azure OpenAI GPT Model:', openai_gpt_model)\n",
        "print('Tenant ID:', tenant_id)\n",
        "print('Client ID:', client_id)\n"
      ]
    },
    {
      "cell_type": "code",
      "execution_count": 17,
      "metadata": {},
      "outputs": [
        {
          "name": "stdout",
          "output_type": "stream",
          "text": [
            "Found 107 records in the index\n",
            "5 unique file names\n",
            "https://onsemistorage.blob.core.windows.net/doc2md/a5191hrt-d.pdf\n",
            "[ 0  1  2  3  4  5  6  7  8  9 10 11 12 13 14 15 16 17 18 19 20 21 22 23\n",
            " 24 25 26 27 28 29 30 31 32 33 34]\n",
            "https://onsemistorage.blob.core.windows.net/doc2md/dtc114y-d.pdf\n",
            "[ 0  1  2  3  4  5  6  7  8  9 10 11 12 13 14 15 16 17 18 19 20 21 22 23]\n",
            "https://onsemistorage.blob.core.windows.net/doc2md/fna25060-d.pdf\n",
            "[ 0  1  2  3  4  5  6  7  8  9 10 11 12 13 14 15 16 17 18 19 20 21 22 23]\n",
            "https://onsemistorage.blob.core.windows.net/doc2md/ntbg020n090sc1-d.pdf\n",
            "[ 0  1  2  3  4  5  6  7  8  9 10]\n",
            "https://onsemistorage.blob.core.windows.net/doc2md/nvtys005n04c-d.pdf\n",
            "[ 0  1  2  3  4  5  6  7  8  9 10 11 12]\n"
          ]
        }
      ],
      "source": [
        "#read all records in the index\n",
        "search_client = SearchClient(search_service_url, index_name, AzureKeyCredential(search_admin_key))\n",
        "\n",
        "# Print the number of records in the index\n",
        "print(f\"Found {search_client.get_document_count()} records in the index\")\n",
        "\n",
        "#read the search results into a pandas dataframe\n",
        "response = search_client.search(search_text=\"*\")\n",
        "df = pd.DataFrame(response)\n",
        "\n",
        "#print the unique values for the filepath field\n",
        "\n",
        "fileNames = df['file_name'].unique()\n",
        "\n",
        "#print the number of unique file names\n",
        "print(str(len(fileNames)) + \" unique file names\")\n",
        "\n",
        "#sort the fileNames array:\n",
        "for filename in np.sort(fileNames):\n",
        "    print(filename)\n",
        "\n",
        "    #confirm all pages have been indexed for each file\n",
        "    chunks = df[df['file_name'] == filename]['chunk_id'].unique()\n",
        "    #sort the chunks array:\n",
        "    chunks = np.sort(chunks)\n",
        "    print(chunks)"
      ]
    }
  ],
  "metadata": {
    "kernel_info": {
      "name": "python310-sdkv2"
    },
    "kernelspec": {
      "display_name": ".venv",
      "language": "python",
      "name": "python3"
    },
    "language_info": {
      "codemirror_mode": {
        "name": "ipython",
        "version": 3
      },
      "file_extension": ".py",
      "mimetype": "text/x-python",
      "name": "python",
      "nbconvert_exporter": "python",
      "pygments_lexer": "ipython3",
      "version": "3.11.9"
    },
    "microsoft": {
      "host": {
        "AzureML": {
          "notebookHasBeenCompleted": true
        }
      },
      "ms_spell_check": {
        "ms_spell_check_language": "en"
      }
    },
    "nteract": {
      "version": "nteract-front-end@1.0.0"
    }
  },
  "nbformat": 4,
  "nbformat_minor": 2
}
